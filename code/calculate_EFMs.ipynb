{
 "cells": [
  {
   "cell_type": "markdown",
   "metadata": {},
   "source": [
    "# Growth model turned into a traditional model with biomass reaction\n",
    "Biomass reaction calculated from the concentrations at the maximum growth rate (calculated with the script 'calculate_EGMs_EGVs.ipynb').\n",
    "EFMs were calculated without or with constraints (capacity constraints on enzymes + dry mass constraint)."
   ]
  },
  {
   "cell_type": "code",
   "execution_count": 1,
   "metadata": {},
   "outputs": [],
   "source": [
    "import efmtool\n",
    "import numpy as np\n",
    "import pandas as pd\n",
    "from itertools import compress"
   ]
  },
  {
   "cell_type": "code",
   "execution_count": 2,
   "metadata": {},
   "outputs": [],
   "source": [
    "def make_nice_results(egms, rxns, drop_slack = True):\n",
    "    \"\"\"Convert output of efmtool to a data frame\n",
    "    normalize by the C (constraint) column\n",
    "    if drop_slack = True, drop columns with slack variables and constraints (named S* or C)\"\"\"\n",
    "    \n",
    "    # solve \"ValueError: Big-endian buffer not supported on little-endian compiler\"\n",
    "    egms = egms.byteswap().newbyteorder()\n",
    "\n",
    "    res = pd.DataFrame(egms.T, index = [\"EFM%s\" % (i+1) for i in range(egms.shape[1])], columns = rxns)\n",
    "\n",
    "    # normalize values by the column C\n",
    "    if \"C\" in res.columns:\n",
    "        res = res.div(res.C, axis = 0)\n",
    "        \n",
    "    if drop_slack:\n",
    "        cols = [c for c in res.columns if c.startswith(\"S\")]\n",
    "        if \"C\" in res.columns:\n",
    "            cols = cols+[\"C\"]\n",
    "        res = res[res.columns.drop(cols)]\n",
    "    return res"
   ]
  },
  {
   "cell_type": "code",
   "execution_count": 3,
   "metadata": {},
   "outputs": [],
   "source": [
    "# stoichiometry\n",
    "nL = 7   \n",
    "nR = 7536*3  # multiplied by 3 to take into account the RNA mass of the ribosome\n",
    "nI = 646\n",
    "nE = 325\n",
    "\n",
    "# kinetic parameters [1/h]\n",
    "k_cat = 79*3600\n",
    "\n",
    "# dry mass constraint\n",
    "MW_Glc = 0.18  # glucose MW [g/mmol]\n",
    "MW_NH4 = 0.018  # ammonium MW [g/mmol]"
   ]
  },
  {
   "cell_type": "code",
   "execution_count": 18,
   "metadata": {},
   "outputs": [],
   "source": [
    "# read concentrations and select one EGV at the max. growth rate\n",
    "conc = pd.read_csv(\"../data/concentrations_LDs_min_lip_mmol.csv\", index_col=0)\n",
    "one_BM = conc.loc[(conc.EGVs == \"EGV5\") & (conc.mu_str == 1.2637)]\n",
    "\n",
    "# calculate protein content by summing up all the proteins\n",
    "protein = one_BM.IG*nI + one_BM.IN*nI + one_BM.EAA*nE + one_BM.ELD*nE + one_BM.EL*nE + one_BM.R*nR + one_BM.AA"
   ]
  },
  {
   "cell_type": "markdown",
   "metadata": {},
   "source": [
    "## Stoich. matrices without or with constraints (enzyme capacity + dry mass)"
   ]
  },
  {
   "cell_type": "code",
   "execution_count": 30,
   "metadata": {},
   "outputs": [],
   "source": [
    "rows = [\"G\", \"N\", \"AA\", \"LD\", \"L\"]\n",
    "rxns = [\"IG\", \"IN\", \"EAA\", \"ELD\", \"EL\", \"BM\"] \n",
    "matrix = np.array([[1, 0, -1, -nL, 0, -float(one_BM.G)],\n",
    "                  [0, 1, -1, 0, 0, -float(one_BM.N)],\n",
    "                  [0, 0, 1, 0, 0, -float(protein)],\n",
    "                  [0, 0, 0, 1, -1, -float(one_BM.LD)],\n",
    "                  [0, 0, 0, 0, 1, -float(one_BM.L)]\n",
    "                  ])\n",
    "# reversibilities - all irreversible\n",
    "revs = [0] * matrix.shape[1]\n",
    "\n",
    "rows2 = rows + [\"capIG\", \"capIN\", \"capEAA\", \"capELD\", \"capEL\", \"DM\"]\n",
    "rxns2 = rxns[:5] + [\"S_IG\", \"S_IN\", \"S_EAA\", \"S_ELD\", \"S_EL\", \"BM\", \"C\"] \n",
    "matrix2 = np.array([[1, 0, -1, -nL, 0, 0, 0, 0, 0, 0, -float(one_BM.G), 0],\n",
    "                  [0, 1, -1, 0, 0, 0, 0, 0, 0, 0, -float(one_BM.N), 0],\n",
    "                  [0, 0, 1, 0, 0, 0, 0, 0, 0, 0, -float(protein), 0],\n",
    "                  [0, 0, 0, 1, -1, 0, 0, 0, 0, 0, -float(one_BM.LD), 0],\n",
    "                  [0, 0, 0, 0, 1, 0, 0, 0, 0, 0, -float(one_BM.L), 0],\n",
    "                  [-1, 0, 0, 0, 0, -1, 0, 0, 0, 0, 0, k_cat*float(one_BM.IG)],\n",
    "                  [0, -1, 0, 0, 0, 0, -1, 0, 0, 0, 0, k_cat*float(one_BM.IN)],\n",
    "                  [0, 0, -1, 0, 0, 0, 0, -1, 0, 0, 0, k_cat*float(one_BM.EAA)],\n",
    "                  [0, 0, 0, -1, 0, 0, 0, 0, -1, 0, 0, k_cat*float(one_BM.ELD)],\n",
    "                  [0, 0, 0, 0, -1, 0, 0, 0, 0, -1, 0, k_cat*float(one_BM.EL)],\n",
    "                  [MW_Glc, MW_NH4, 0, 0, 0, 0, 0, 0, 0, 0, 0, -float(one_BM.mu)]\n",
    "                  ])\n",
    "\n",
    "revs2 = [0] * matrix2.shape[1]"
   ]
  },
  {
   "cell_type": "markdown",
   "metadata": {},
   "source": [
    "## Calculate EFMs"
   ]
  },
  {
   "cell_type": "code",
   "execution_count": 31,
   "metadata": {},
   "outputs": [],
   "source": [
    "options = efmtool.get_default_options()\n",
    "options[\"arithmetic\"] = \"fractional\""
   ]
  },
  {
   "cell_type": "code",
   "execution_count": 32,
   "metadata": {},
   "outputs": [
    {
     "data": {
      "text/html": [
       "<div>\n",
       "<style scoped>\n",
       "    .dataframe tbody tr th:only-of-type {\n",
       "        vertical-align: middle;\n",
       "    }\n",
       "\n",
       "    .dataframe tbody tr th {\n",
       "        vertical-align: top;\n",
       "    }\n",
       "\n",
       "    .dataframe thead th {\n",
       "        text-align: right;\n",
       "    }\n",
       "</style>\n",
       "<table border=\"1\" class=\"dataframe\">\n",
       "  <thead>\n",
       "    <tr style=\"text-align: right;\">\n",
       "      <th></th>\n",
       "      <th>IG</th>\n",
       "      <th>IN</th>\n",
       "      <th>EAA</th>\n",
       "      <th>ELD</th>\n",
       "      <th>EL</th>\n",
       "      <th>BM</th>\n",
       "    </tr>\n",
       "  </thead>\n",
       "  <tbody>\n",
       "    <tr>\n",
       "      <th>EFM1</th>\n",
       "      <td>82.325407</td>\n",
       "      <td>75.325407</td>\n",
       "      <td>75.325407</td>\n",
       "      <td>1.0</td>\n",
       "      <td>1.0</td>\n",
       "      <td>16.174431</td>\n",
       "    </tr>\n",
       "  </tbody>\n",
       "</table>\n",
       "</div>"
      ],
      "text/plain": [
       "             IG         IN        EAA  ELD   EL         BM\n",
       "EFM1  82.325407  75.325407  75.325407  1.0  1.0  16.174431"
      ]
     },
     "execution_count": 32,
     "metadata": {},
     "output_type": "execute_result"
    }
   ],
   "source": [
    "# without constraints\n",
    "egms = efmtool.calculate_efms(stoichiometry = matrix, \n",
    "                              reversibilities = revs, \n",
    "                              reaction_names = rxns, \n",
    "                              metabolite_names = rows,\n",
    "                              options = options)\n",
    "egms_nice = make_nice_results(egms, rxns, True)\n",
    "egms_nice"
   ]
  },
  {
   "cell_type": "code",
   "execution_count": 33,
   "metadata": {},
   "outputs": [
    {
     "data": {
      "text/html": [
       "<div>\n",
       "<style scoped>\n",
       "    .dataframe tbody tr th:only-of-type {\n",
       "        vertical-align: middle;\n",
       "    }\n",
       "\n",
       "    .dataframe tbody tr th {\n",
       "        vertical-align: top;\n",
       "    }\n",
       "\n",
       "    .dataframe thead th {\n",
       "        text-align: right;\n",
       "    }\n",
       "</style>\n",
       "<table border=\"1\" class=\"dataframe\">\n",
       "  <thead>\n",
       "    <tr style=\"text-align: right;\">\n",
       "      <th></th>\n",
       "      <th>IG</th>\n",
       "      <th>IN</th>\n",
       "      <th>EAA</th>\n",
       "      <th>ELD</th>\n",
       "      <th>EL</th>\n",
       "      <th>BM</th>\n",
       "    </tr>\n",
       "  </thead>\n",
       "  <tbody>\n",
       "    <tr>\n",
       "      <th>EFM1</th>\n",
       "      <td>6.432061</td>\n",
       "      <td>5.885153</td>\n",
       "      <td>5.885153</td>\n",
       "      <td>0.07813</td>\n",
       "      <td>0.07813</td>\n",
       "      <td>1.263704</td>\n",
       "    </tr>\n",
       "  </tbody>\n",
       "</table>\n",
       "</div>"
      ],
      "text/plain": [
       "            IG        IN       EAA      ELD       EL        BM\n",
       "EFM1  6.432061  5.885153  5.885153  0.07813  0.07813  1.263704"
      ]
     },
     "execution_count": 33,
     "metadata": {},
     "output_type": "execute_result"
    }
   ],
   "source": [
    "# with constraints\n",
    "egms2 = efmtool.calculate_efms(stoichiometry = matrix2, \n",
    "                              reversibilities = revs2, \n",
    "                              reaction_names = rxns2, \n",
    "                              metabolite_names = rows2,\n",
    "                              options = options)\n",
    "egms_nice2 = make_nice_results(egms2, rxns2, True)\n",
    "egms_nice2"
   ]
  },
  {
   "cell_type": "markdown",
   "metadata": {},
   "source": [
    "## Compare with EGVs"
   ]
  },
  {
   "cell_type": "code",
   "execution_count": 17,
   "metadata": {},
   "outputs": [
    {
     "data": {
      "text/html": [
       "<div>\n",
       "<style scoped>\n",
       "    .dataframe tbody tr th:only-of-type {\n",
       "        vertical-align: middle;\n",
       "    }\n",
       "\n",
       "    .dataframe tbody tr th {\n",
       "        vertical-align: top;\n",
       "    }\n",
       "\n",
       "    .dataframe thead th {\n",
       "        text-align: right;\n",
       "    }\n",
       "</style>\n",
       "<table border=\"1\" class=\"dataframe\">\n",
       "  <thead>\n",
       "    <tr style=\"text-align: right;\">\n",
       "      <th></th>\n",
       "      <th>IG</th>\n",
       "      <th>IN</th>\n",
       "      <th>EAA</th>\n",
       "      <th>ELD</th>\n",
       "      <th>EL</th>\n",
       "      <th>R_IG</th>\n",
       "      <th>R_IN</th>\n",
       "      <th>R_EAA</th>\n",
       "      <th>R_ELD</th>\n",
       "      <th>R_EL</th>\n",
       "      <th>...</th>\n",
       "      <th>S6</th>\n",
       "      <th>S7</th>\n",
       "      <th>S8</th>\n",
       "      <th>S9</th>\n",
       "      <th>S10</th>\n",
       "      <th>S11</th>\n",
       "      <th>C</th>\n",
       "      <th>mu</th>\n",
       "      <th>mu_str</th>\n",
       "      <th>EGVs</th>\n",
       "    </tr>\n",
       "  </thead>\n",
       "  <tbody>\n",
       "    <tr>\n",
       "      <th>1.2637EGV5</th>\n",
       "      <td>6.432061</td>\n",
       "      <td>5.885153</td>\n",
       "      <td>5.885153</td>\n",
       "      <td>0.07813</td>\n",
       "      <td>0.07813</td>\n",
       "      <td>0.000029</td>\n",
       "      <td>0.000026</td>\n",
       "      <td>0.000035</td>\n",
       "      <td>3.471618e-07</td>\n",
       "      <td>3.471618e-07</td>\n",
       "      <td>...</td>\n",
       "      <td>0.0</td>\n",
       "      <td>2.047904</td>\n",
       "      <td>0.0</td>\n",
       "      <td>0.0</td>\n",
       "      <td>0.0</td>\n",
       "      <td>1.821890e-08</td>\n",
       "      <td>1.0</td>\n",
       "      <td>1.263704</td>\n",
       "      <td>1.2637</td>\n",
       "      <td>EGV5</td>\n",
       "    </tr>\n",
       "  </tbody>\n",
       "</table>\n",
       "<p>1 rows × 26 columns</p>\n",
       "</div>"
      ],
      "text/plain": [
       "                  IG        IN       EAA      ELD       EL      R_IG  \\\n",
       "1.2637EGV5  6.432061  5.885153  5.885153  0.07813  0.07813  0.000029   \n",
       "\n",
       "                R_IN     R_EAA         R_ELD          R_EL  ...   S6  \\\n",
       "1.2637EGV5  0.000026  0.000035  3.471618e-07  3.471618e-07  ...  0.0   \n",
       "\n",
       "                  S7   S8   S9  S10           S11    C        mu  mu_str  EGVs  \n",
       "1.2637EGV5  2.047904  0.0  0.0  0.0  1.821890e-08  1.0  1.263704  1.2637  EGV5  \n",
       "\n",
       "[1 rows x 26 columns]"
      ]
     },
     "execution_count": 17,
     "metadata": {},
     "output_type": "execute_result"
    }
   ],
   "source": [
    "fluxes = pd.read_csv(\"../data/EGVs_LDs_min_lip.csv\", index_col=0)\n",
    "one_EGV = fluxes.loc[(fluxes.EGVs == \"EGV5\") & (fluxes.mu_str == 1.2637)]\n",
    "one_EGV"
   ]
  },
  {
   "cell_type": "code",
   "execution_count": null,
   "metadata": {},
   "outputs": [],
   "source": []
  }
 ],
 "metadata": {
  "kernelspec": {
   "display_name": "Python 3.7 (with cplex)",
   "language": "python",
   "name": "python3.7"
  },
  "language_info": {
   "codemirror_mode": {
    "name": "ipython",
    "version": 3
   },
   "file_extension": ".py",
   "mimetype": "text/x-python",
   "name": "python",
   "nbconvert_exporter": "python",
   "pygments_lexer": "ipython3",
   "version": "3.7.9"
  }
 },
 "nbformat": 4,
 "nbformat_minor": 4
}
